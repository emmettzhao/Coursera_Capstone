{
    "cells": [
        {
            "cell_type": "markdown",
            "metadata": {
                "collapsed": true
            },
            "source": "# Capstone Project"
        },
        {
            "cell_type": "markdown",
            "metadata": {},
            "source": "# Predicting Severity of Car Accident Severity for South Australia"
        },
        {
            "cell_type": "markdown",
            "metadata": {},
            "source": "## 1. Introduction/Business requirements"
        },
        {
            "cell_type": "markdown",
            "metadata": {},
            "source": "### 1.1 Background"
        },
        {
            "cell_type": "markdown",
            "metadata": {},
            "source": "The number of traffic accidents has been a rising trend globally due to increases in population and motorization. Different factors are involved in traffic crashes. If the possibility of drivers/cars getting into an accident can be predicted, the drivers would drive more carefully, change the route or travel plan. Alos the critical issue identified could be solved in advance.  So wow can we know the possibility of getting into a car accident? What kind factors/conditions are affecting the possibility and accident severity? "
        },
        {
            "cell_type": "markdown",
            "metadata": {},
            "source": "### 1.2 Purposes and Requirements"
        },
        {
            "cell_type": "markdown",
            "metadata": {},
            "source": "The purpose of Capstone project is building a prediction system for Car Accident Severity using machine learning technologies. It involves \nstatistical modeling considering crash severity as a dependent variable which is the target of prediction. As an option, the shared dataset of Seattle city of USA can be used for it, or you can find own dataset from open data source. \n\nI would like to researh on car crash statistics of Australia instead of Seattle City. \nAims to understanding followings:\n1. Understanding what the factors impact on car accidents\n2. The possibility of car accidents happening with the certain found factors\n3. Technically, what the machine learning algorithm/model are more suitable for the project.\n\nAs expecting, the data set should include labelled severity for each accidents, the supervised machine learning algorithms will be applied for it."
        },
        {
            "cell_type": "markdown",
            "metadata": {},
            "source": "## 2. Data Requirement"
        },
        {
            "cell_type": "markdown",
            "metadata": {},
            "source": "According to project requirements, the target or label column should be accident \"severity\" in terms of human fatality, traffic delay, property damage, or any other type of accident bad impact. Other conditions should be included such as traffic control, road condition, weather condition, locations, time, Speed. I searched Car Crash data for NSW,VIC,SA Australia from data.gov.au The data of SA(South Australia) is selected, including most required items.\n\nAccording to Metadata, there are four Severity level defined as\nDecoded values:  \n\u201c4: Fatal  = Fatal Injury,     \n\u201c3: SI\u201d = Serious Injury,   \n\u201c2: MI\u201d = Minor Injury,   \n\u201c1: PDO\u201d = Property Damage Only   \n\nfollowing features are selected as the factors/conditions. The list could be updated base on further data understanding.\n'Total Units',   \n'Total Cas',   \n'Total Fats',   \n'Total SI',   \n'Total MI',  \n'Day',   \n'Time',   \n'Area Speed',   \n'Position Type',  \n'Horizontal Align',   \n'Vertical Align',   \n'Other Feat',   \n'Road Surface',  \n'Moisture Cond',   \n'Weather Cond',   \n'DayNight',   \n'Crash Type',   \n'CSEF Severity',   \n'Traffic Ctrls',   \n'DUI Involved',  \n'Drugs Involved',   \n'ACCLOC_X',   \n'ACCLOC_Y',  \n\nand following Nonrelevant columns will be removed.\n'REPORT_ID',  \n'Stats Area',  \n'Suburb',  \n'Postcode',  \n'LGA Name',  \n'Year',  \n'Month',  \n'Entity Code',   \n'UNIQUE_LOC'  \n  "
        },
        {
            "cell_type": "code",
            "execution_count": 9,
            "metadata": {
                "scrolled": true
            },
            "outputs": [
                {
                    "data": {
                        "text/html": "<div>\n<style scoped>\n    .dataframe tbody tr th:only-of-type {\n        vertical-align: middle;\n    }\n\n    .dataframe tbody tr th {\n        vertical-align: top;\n    }\n\n    .dataframe thead th {\n        text-align: right;\n    }\n</style>\n<table border=\"1\" class=\"dataframe\">\n  <thead>\n    <tr style=\"text-align: right;\">\n      <th></th>\n      <th>REPORT_ID</th>\n      <th>Stats Area</th>\n      <th>Suburb</th>\n      <th>Postcode</th>\n      <th>LGA Name</th>\n      <th>Total Units</th>\n      <th>Total Cas</th>\n      <th>Total Fats</th>\n      <th>Total SI</th>\n      <th>Total MI</th>\n      <th>...</th>\n      <th>Crash Type</th>\n      <th>Unit Resp</th>\n      <th>Entity Code</th>\n      <th>CSEF Severity</th>\n      <th>Traffic Ctrls</th>\n      <th>DUI Involved</th>\n      <th>Drugs Involved</th>\n      <th>ACCLOC_X</th>\n      <th>ACCLOC_Y</th>\n      <th>UNIQUE_LOC</th>\n    </tr>\n  </thead>\n  <tbody>\n    <tr>\n      <th>0</th>\n      <td>2019-1-8/07/2020</td>\n      <td>2 Metropolitan</td>\n      <td>HAMPSTEAD GARDENS</td>\n      <td>5086</td>\n      <td>CITY OF PORT ADELAIDE ENFIELD</td>\n      <td>2</td>\n      <td>0</td>\n      <td>0</td>\n      <td>0</td>\n      <td>0</td>\n      <td>...</td>\n      <td>Right Angle</td>\n      <td>1</td>\n      <td>Driver Rider</td>\n      <td>1: PDO</td>\n      <td>Give Way Sign</td>\n      <td>NaN</td>\n      <td>NaN</td>\n      <td>1331810.03</td>\n      <td>1676603.26</td>\n      <td>13318101676603</td>\n    </tr>\n    <tr>\n      <th>1</th>\n      <td>2019-2-8/07/2020</td>\n      <td>2 Metropolitan</td>\n      <td>DRY CREEK</td>\n      <td>5094</td>\n      <td>CITY OF SALISBURY</td>\n      <td>2</td>\n      <td>0</td>\n      <td>0</td>\n      <td>0</td>\n      <td>0</td>\n      <td>...</td>\n      <td>Rear End</td>\n      <td>2</td>\n      <td>Driver Rider</td>\n      <td>1: PDO</td>\n      <td>No Control</td>\n      <td>NaN</td>\n      <td>NaN</td>\n      <td>1328376.20</td>\n      <td>1682942.63</td>\n      <td>13283761682943</td>\n    </tr>\n    <tr>\n      <th>2</th>\n      <td>2019-3-8/07/2020</td>\n      <td>2 Metropolitan</td>\n      <td>MILE END</td>\n      <td>5031</td>\n      <td>CITY OF WEST TORRENS</td>\n      <td>2</td>\n      <td>1</td>\n      <td>0</td>\n      <td>0</td>\n      <td>1</td>\n      <td>...</td>\n      <td>Hit Pedestrian</td>\n      <td>1</td>\n      <td>Driver Rider</td>\n      <td>2: MI</td>\n      <td>No Control</td>\n      <td>NaN</td>\n      <td>NaN</td>\n      <td>1325819.68</td>\n      <td>1670994.26</td>\n      <td>13258201670994</td>\n    </tr>\n    <tr>\n      <th>3</th>\n      <td>2019-4-8/07/2020</td>\n      <td>2 Metropolitan</td>\n      <td>PARALOWIE</td>\n      <td>5108</td>\n      <td>CITY OF SALISBURY</td>\n      <td>2</td>\n      <td>1</td>\n      <td>0</td>\n      <td>1</td>\n      <td>0</td>\n      <td>...</td>\n      <td>Hit Fixed Object</td>\n      <td>1</td>\n      <td>Driver Rider</td>\n      <td>3: SI</td>\n      <td>No Control</td>\n      <td>NaN</td>\n      <td>NaN</td>\n      <td>1328320.60</td>\n      <td>1690237.08</td>\n      <td>13283211690237</td>\n    </tr>\n    <tr>\n      <th>4</th>\n      <td>2019-5-8/07/2020</td>\n      <td>2 Metropolitan</td>\n      <td>MOUNT BARKER</td>\n      <td>5251</td>\n      <td>DC MT.BARKER.</td>\n      <td>2</td>\n      <td>0</td>\n      <td>0</td>\n      <td>0</td>\n      <td>0</td>\n      <td>...</td>\n      <td>Hit Animal</td>\n      <td>2</td>\n      <td>Animal</td>\n      <td>1: PDO</td>\n      <td>No Control</td>\n      <td>NaN</td>\n      <td>NaN</td>\n      <td>1353279.99</td>\n      <td>1655645.15</td>\n      <td>13532801655645</td>\n    </tr>\n  </tbody>\n</table>\n<p>5 rows \u00d7 33 columns</p>\n</div>",
                        "text/plain": "          REPORT_ID      Stats Area             Suburb  Postcode  \\\n0  2019-1-8/07/2020  2 Metropolitan  HAMPSTEAD GARDENS      5086   \n1  2019-2-8/07/2020  2 Metropolitan          DRY CREEK      5094   \n2  2019-3-8/07/2020  2 Metropolitan           MILE END      5031   \n3  2019-4-8/07/2020  2 Metropolitan          PARALOWIE      5108   \n4  2019-5-8/07/2020  2 Metropolitan       MOUNT BARKER      5251   \n\n                         LGA Name  Total Units  Total Cas  Total Fats  \\\n0   CITY OF PORT ADELAIDE ENFIELD            2          0           0   \n1               CITY OF SALISBURY            2          0           0   \n2            CITY OF WEST TORRENS            2          1           0   \n3               CITY OF SALISBURY            2          1           0   \n4  DC MT.BARKER.                             2          0           0   \n\n   Total SI  Total MI  ...        Crash Type Unit Resp   Entity Code  \\\n0         0         0  ...       Right Angle         1  Driver Rider   \n1         0         0  ...          Rear End         2  Driver Rider   \n2         0         1  ...    Hit Pedestrian         1  Driver Rider   \n3         1         0  ...  Hit Fixed Object         1  Driver Rider   \n4         0         0  ...        Hit Animal         2        Animal   \n\n  CSEF Severity  Traffic Ctrls DUI Involved Drugs Involved    ACCLOC_X  \\\n0        1: PDO  Give Way Sign          NaN            NaN  1331810.03   \n1        1: PDO     No Control          NaN            NaN  1328376.20   \n2         2: MI     No Control          NaN            NaN  1325819.68   \n3         3: SI     No Control          NaN            NaN  1328320.60   \n4        1: PDO     No Control          NaN            NaN  1353279.99   \n\n     ACCLOC_Y      UNIQUE_LOC  \n0  1676603.26  13318101676603  \n1  1682942.63  13283761682943  \n2  1670994.26  13258201670994  \n3  1690237.08  13283211690237  \n4  1655645.15  13532801655645  \n\n[5 rows x 33 columns]"
                    },
                    "execution_count": 9,
                    "metadata": {},
                    "output_type": "execute_result"
                }
            ],
            "source": "# The code was removed by Watson Studio for sharing."
        },
        {
            "cell_type": "code",
            "execution_count": 10,
            "metadata": {},
            "outputs": [
                {
                    "data": {
                        "text/plain": "1: PDO      8188\n2: MI       3937\n3: SI        729\n4: Fatal     110\nName: CSEF Severity, dtype: int64"
                    },
                    "execution_count": 10,
                    "metadata": {},
                    "output_type": "execute_result"
                }
            ],
            "source": "df_data_1['CSEF Severity'].value_counts()"
        },
        {
            "cell_type": "code",
            "execution_count": 11,
            "metadata": {},
            "outputs": [
                {
                    "data": {
                        "text/plain": "Index(['REPORT_ID', 'Stats Area', 'Suburb', 'Postcode', 'LGA Name',\n       'Total Units', 'Total Cas', 'Total Fats', 'Total SI', 'Total MI',\n       'Year', 'Month', 'Day', 'Time', 'Area Speed', 'Position Type',\n       'Horizontal Align', 'Vertical Align', 'Other Feat', 'Road Surface',\n       'Moisture Cond', 'Weather Cond', 'DayNight', 'Crash Type', 'Unit Resp',\n       'Entity Code', 'CSEF Severity', 'Traffic Ctrls', 'DUI Involved',\n       'Drugs Involved', 'ACCLOC_X', 'ACCLOC_Y', 'UNIQUE_LOC'],\n      dtype='object')"
                    },
                    "execution_count": 11,
                    "metadata": {},
                    "output_type": "execute_result"
                }
            ],
            "source": "df_data_1.columns"
        }
    ],
    "metadata": {
        "kernelspec": {
            "display_name": "Python 3.6",
            "language": "python",
            "name": "python3"
        },
        "language_info": {
            "codemirror_mode": {
                "name": "ipython",
                "version": 3
            },
            "file_extension": ".py",
            "mimetype": "text/x-python",
            "name": "python",
            "nbconvert_exporter": "python",
            "pygments_lexer": "ipython3",
            "version": "3.6.9"
        }
    },
    "nbformat": 4,
    "nbformat_minor": 1
}